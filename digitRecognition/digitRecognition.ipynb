{
  "nbformat": 4,
  "nbformat_minor": 0,
  "metadata": {
    "kernelspec": {
      "display_name": "Python 3",
      "language": "python",
      "name": "python3"
    },
    "language_info": {
      "codemirror_mode": {
        "name": "ipython",
        "version": 3
      },
      "file_extension": ".py",
      "mimetype": "text/x-python",
      "name": "python",
      "nbconvert_exporter": "python",
      "pygments_lexer": "ipython3",
      "version": "3.7.3"
    },
    "colab": {
      "name": "digitRecognition.ipynb",
      "provenance": [],
      "collapsed_sections": [],
      "include_colab_link": true
    }
  },
  "cells": [
    {
      "cell_type": "markdown",
      "metadata": {
        "id": "view-in-github",
        "colab_type": "text"
      },
      "source": [
        "<a href=\"https://colab.research.google.com/github/JRSmiffy/Kaggle/blob/master/digitRecognition/digitRecognition.ipynb\" target=\"_parent\"><img src=\"https://colab.research.google.com/assets/colab-badge.svg\" alt=\"Open In Colab\"/></a>"
      ]
    },
    {
      "cell_type": "markdown",
      "metadata": {
        "id": "4BxPzJCuBL8F",
        "colab_type": "text"
      },
      "source": [
        "# \"Digit Recognizer\" Kaggle Exercise"
      ]
    },
    {
      "cell_type": "markdown",
      "metadata": {
        "id": "Ab4KrDiKBL8I",
        "colab_type": "text"
      },
      "source": [
        "https://www.kaggle.com/c/digit-recognizer"
      ]
    },
    {
      "cell_type": "markdown",
      "metadata": {
        "id": "2pNUQWIZBL8K",
        "colab_type": "text"
      },
      "source": [
        "### Overview\n",
        "\n",
        "The MNIST dataset is a collection of 60,000 labelled 28px by 28px images of hand-written digits - from 0-9. It is the \"hello-world\" of neural networks for computer vision. I will use it to classify my own handwritten digit.\n",
        "\n",
        "#### Initial Method was to use a SVM/SVC - this was too slow!\n",
        "I switched over to Convolutional Neural Networks\n",
        "\n",
        "### Method\n",
        "\n",
        "* Import the libraries\n",
        "* Load the data\n",
        "* Explore the data - visualise\n",
        "* Create the graph\n",
        "* Create the session - train the model\n",
        "* Make a prediction\n",
        "* Test the model in the wild"
      ]
    },
    {
      "cell_type": "markdown",
      "metadata": {
        "id": "_CYJb1AcBL8M",
        "colab_type": "text"
      },
      "source": [
        "# Code"
      ]
    },
    {
      "cell_type": "markdown",
      "metadata": {
        "id": "YPd4Y8oPBL8N",
        "colab_type": "text"
      },
      "source": [
        "### Imports"
      ]
    },
    {
      "cell_type": "code",
      "metadata": {
        "id": "8_GufViRBL8P",
        "colab_type": "code",
        "colab": {}
      },
      "source": [
        "import pandas as pd\n",
        "import tensorflow as tf\n",
        "import matplotlib.pyplot as plt\n",
        "%matplotlib inline\n",
        "import random\n",
        "import numpy as np\n",
        "from sklearn.model_selection import train_test_split"
      ],
      "execution_count": 0,
      "outputs": []
    },
    {
      "cell_type": "code",
      "metadata": {
        "id": "pgbdVlaYBL8S",
        "colab_type": "code",
        "colab": {}
      },
      "source": [
        "import os\n",
        "os.environ['KMP_DUPLICATE_LIB_OK']='True'"
      ],
      "execution_count": 0,
      "outputs": []
    },
    {
      "cell_type": "markdown",
      "metadata": {
        "id": "M5-tu5FCBL8W",
        "colab_type": "text"
      },
      "source": [
        "### Load the data"
      ]
    },
    {
      "cell_type": "code",
      "metadata": {
        "id": "tIsT5EatBL8X",
        "colab_type": "code",
        "outputId": "9095c681-b543-4eb4-e968-5c60ebf973c0",
        "colab": {
          "base_uri": "https://localhost:8080/",
          "height": 918
        }
      },
      "source": [
        "url = 'https://raw.githubusercontent.com/JRSmiffy/Kaggle/master/digitRecognition/train.csv'\n",
        "train_set = pd.read_csv(url)\n",
        "url = 'https://raw.githubusercontent.com/JRSmiffy/Kaggle/master/digitRecognition/test.csv'\n",
        "test_set = pd.read_csv(url)\n",
        "\n",
        "print(\"train set\")\n",
        "print((train_set.values))\n",
        "\n",
        "print(\"test set\")\n",
        "print((test_set.values[0])) # This is a number, without a label"
      ],
      "execution_count": 0,
      "outputs": [
        {
          "output_type": "stream",
          "text": [
            "train set\n",
            "[[1 0 0 ... 0 0 0]\n",
            " [0 0 0 ... 0 0 0]\n",
            " [1 0 0 ... 0 0 0]\n",
            " ...\n",
            " [7 0 0 ... 0 0 0]\n",
            " [6 0 0 ... 0 0 0]\n",
            " [9 0 0 ... 0 0 0]]\n",
            "test set\n",
            "[  0   0   0   0   0   0   0   0   0   0   0   0   0   0   0   0   0   0\n",
            "   0   0   0   0   0   0   0   0   0   0   0   0   0   0   0   0   0   0\n",
            "   0   0   0   0   0   0   0   0   0   0   0   0   0   0   0   0   0   0\n",
            "   0   0   0   0   0   0   0   0   0   0   0   0   0   0   0   0   0   0\n",
            "   0   0   0   0   0   0   0   0   0   0   0   0   0   0   0   0   0   0\n",
            "   0   0   0   0   0   0   0   0   0   0   0   0   0   0   0   0   0   0\n",
            "   0   0   0   0   0   0   0   0   0   0   0   0   0   0  10  17  17  17\n",
            "  17  81 180 180  35   0   0   0   0   0   0   0   0   0   0   0   0   0\n",
            "   0   0   0   0   0   0 139 253 253 253 253 253 253 253  48   0   0   0\n",
            "   0   0   0   0   0   0   0   0   0   0   0   0   0   0   0  60 228 253\n",
            " 253 253 253 253 253 253 207 197  46   0   0   0   0   0   0   0   0   0\n",
            "   0   0   0   0   0   0   0 213 253 253 253 253 253 253 253 253 253 253\n",
            " 223  52   0   0   0   0   0   0   0   0   0   0   0   0   0   0   0  66\n",
            " 231 253 253 253 108  40  40 115 244 253 253 134   3   0   0   0   0   0\n",
            "   0   0   0   0   0   0   0   0   0   0  63 114 114 114  37   0   0   0\n",
            " 205 253 253 253  15   0   0   0   0   0   0   0   0   0   0   0   0   0\n",
            "   0   0   0   0   0   0   0   0   0   0  57 253 253 253  15   0   0   0\n",
            "   0   0   0   0   0   0   0   0   0   0   0   0   0   0   0   0   0   0\n",
            "   0   0  42 253 253 253  15   0   0   0   0   0   0   0   0   0   0   0\n",
            "   0   0   0   0   0   0   0   0   0   0   0   0  95 253 253 253  15   0\n",
            "   0   0   0   0   0   0   0   0   0   0   0   0   0   0   0   0   0   0\n",
            "   0   0   0   0 205 253 253 253  15   0   0   0   0   0   0   0   0   0\n",
            "   0   0   0   0   0   0   0   0  61  99  96   0   0  45 224 253 253 195\n",
            "  10   0   0   0   0   0   0   0   0   0   0   0  11  25 105  83 189 189\n",
            " 228 253 251 189 189 218 253 253 210  27   0   0   0   0   0   0   0   0\n",
            "   0   0  42 116 173 253 253 253 253 253 253 253 253 253 253 253 253 253\n",
            " 221 116   7   0   0   0   0   0   0   0   0   0 118 253 253 253 253 245\n",
            " 212 222 253 253 253 253 253 253 253 253 253 253 160  15   0   0   0   0\n",
            "   0   0   0   0 254 253 253 253 189  99   0  32 202 253 253 253 240 122\n",
            " 122 190 253 253 253 174   0   0   0   0   0   0   0   0 255 253 253 253\n",
            " 238 222 222 222 241 253 253 230  70   0   0  17 175 229 253 253   0   0\n",
            "   0   0   0   0   0   0 158 253 253 253 253 253 253 253 253 205 106  65\n",
            "   0   0   0   0   0  62 244 157   0   0   0   0   0   0   0   0   6  26\n",
            " 179 179 179 179 179  30  15  10   0   0   0   0   0   0   0   0  14   6\n",
            "   0   0   0   0   0   0   0   0   0   0   0   0   0   0   0   0   0   0\n",
            "   0   0   0   0   0   0   0   0   0   0   0   0   0   0   0   0   0   0\n",
            "   0   0   0   0   0   0   0   0   0   0   0   0   0   0   0   0   0   0\n",
            "   0   0   0   0   0   0   0   0   0   0   0   0   0   0   0   0   0   0\n",
            "   0   0   0   0   0   0   0   0   0   0   0   0   0   0   0   0   0   0\n",
            "   0   0   0   0   0   0   0   0   0   0   0   0   0   0   0   0   0   0\n",
            "   0   0   0   0   0   0   0   0   0   0   0   0   0   0   0   0   0   0\n",
            "   0   0   0   0   0   0   0   0   0   0   0   0   0   0   0   0   0   0\n",
            "   0   0   0   0   0   0   0   0   0   0   0   0   0   0   0   0   0   0\n",
            "   0   0   0   0   0   0   0   0   0   0]\n"
          ],
          "name": "stdout"
        }
      ]
    },
    {
      "cell_type": "markdown",
      "metadata": {
        "id": "ux461DOoBL8c",
        "colab_type": "text"
      },
      "source": [
        "The 60k images are split into train (42K) & test (28K). \n",
        "The Train CSV file contains rows comprised of the label for the digit and a grayscale value for each of the 784 pixels for that image. The Test CSV file contains the pixel information, but has no attached label."
      ]
    },
    {
      "cell_type": "markdown",
      "metadata": {
        "id": "2PJIPGZEBL8f",
        "colab_type": "text"
      },
      "source": [
        "### Explore the data"
      ]
    },
    {
      "cell_type": "code",
      "metadata": {
        "id": "d-t8VlpGBL8g",
        "colab_type": "code",
        "outputId": "1fbb0e59-1b44-4b3a-e46c-b24b061d96be",
        "colab": {
          "base_uri": "https://localhost:8080/",
          "height": 286
        }
      },
      "source": [
        "single_image = (train_set.iloc[450, 1:]).values # Extract a single row, convert to array\n",
        "\n",
        "single_image = single_image.reshape(28,28)\n",
        "plt.imshow(single_image)"
      ],
      "execution_count": 0,
      "outputs": [
        {
          "output_type": "execute_result",
          "data": {
            "text/plain": [
              "<matplotlib.image.AxesImage at 0x7f0d5caae5c0>"
            ]
          },
          "metadata": {
            "tags": []
          },
          "execution_count": 43
        },
        {
          "output_type": "display_data",
          "data": {
            "image/png": "[encoded data removed]",
            "text/plain": [
              "<Figure size 432x288 with 1 Axes>"
            ]
          },
          "metadata": {
            "tags": []
          }
        }
      ]
    },
    {
      "cell_type": "markdown",
      "metadata": {
        "id": "ZU75Z28QBL8k",
        "colab_type": "text"
      },
      "source": [
        "### Make the data usable"
      ]
    },
    {
      "cell_type": "code",
      "metadata": {
        "id": "ZJmZ-zeJBL8k",
        "colab_type": "code",
        "outputId": "177e7529-fdbb-446e-d557-49a2e1ab3275",
        "colab": {
          "base_uri": "https://localhost:8080/",
          "height": 595
        }
      },
      "source": [
        "X_train = (train_set.iloc[:, 1:]).values # Drop label & convert to array\n",
        "y_train = (train_set.iloc[:,0]).values # (Drop label)' & convert to array\n",
        "print(\"\\n\")\n",
        "print(\"X_train\")\n",
        "print(X_train)\n",
        "print(\"\\n\")\n",
        "print(\"y_train\")\n",
        "print(y_train)\n",
        "\n",
        "# One-Hot Encode y_train\n",
        "y_train = pd.get_dummies(y_train)\n",
        "y_train = (y_train.iloc[:, 0:]).values\n",
        "print(\"\\n\")\n",
        "print(\"y_train One-Hot Encoded\")\n",
        "print(y_train)\n",
        "\n",
        "\n",
        "X_test = (test_set.iloc[:, 1:]).values # Drop label & convert to array\n",
        "print(\"\\n\")\n",
        "print(\"X_test\")\n",
        "print(X_test)\n",
        "\n",
        "\n",
        "X_train, X_test, y_train, y_test = train_test_split(X_train, y_train, test_size=0.2, random_state=101)"
      ],
      "execution_count": 0,
      "outputs": [
        {
          "output_type": "stream",
          "text": [
            "\n",
            "\n",
            "X_train\n",
            "[[0 0 0 ... 0 0 0]\n",
            " [0 0 0 ... 0 0 0]\n",
            " [0 0 0 ... 0 0 0]\n",
            " ...\n",
            " [0 0 0 ... 0 0 0]\n",
            " [0 0 0 ... 0 0 0]\n",
            " [0 0 0 ... 0 0 0]]\n",
            "\n",
            "\n",
            "y_train\n",
            "[1 0 1 ... 7 6 9]\n",
            "\n",
            "\n",
            "y_train One-Hot Encoded\n",
            "[[0 1 0 ... 0 0 0]\n",
            " [1 0 0 ... 0 0 0]\n",
            " [0 1 0 ... 0 0 0]\n",
            " ...\n",
            " [0 0 0 ... 1 0 0]\n",
            " [0 0 0 ... 0 0 0]\n",
            " [0 0 0 ... 0 0 1]]\n",
            "\n",
            "\n",
            "X_test\n",
            "[[0 0 0 ... 0 0 0]\n",
            " [0 0 0 ... 0 0 0]\n",
            " [0 0 0 ... 0 0 0]\n",
            " ...\n",
            " [0 0 0 ... 0 0 0]\n",
            " [0 0 0 ... 0 0 0]\n",
            " [0 0 0 ... 0 0 0]]\n"
          ],
          "name": "stdout"
        }
      ]
    },
    {
      "cell_type": "markdown",
      "metadata": {
        "id": "psBVSw8MBL8n",
        "colab_type": "text"
      },
      "source": [
        "### Helper functions\n",
        "\n",
        "#### init_weights & init_bias\n",
        "Initialize random weights & biases for the fully connected or convolutional layers.\n",
        "\n",
        "#### conv2d\n",
        "\n",
        "#### max_pool_2by2\n",
        "\n",
        "#### convolutional_layer\n",
        "\n",
        "#### normal_full_layer\n",
        "\n",
        "#### next_batch\n"
      ]
    },
    {
      "cell_type": "code",
      "metadata": {
        "id": "-xWgXCmABL8o",
        "colab_type": "code",
        "colab": {}
      },
      "source": [
        "def init_weights(shape):\n",
        "    init_random_dist = tf.truncated_normal(shape, stddev=0.1)\n",
        "    return tf.Variable(init_random_dist)\n",
        "\n",
        "def init_bias(shape):\n",
        "    init_bias_vals = tf.constant(0.1, shape=shape)\n",
        "    return tf.Variable(init_bias_vals)\n",
        "\n",
        "def conv2d(x, W):\n",
        "    return tf.nn.conv2d(x, W, strides=[1, 1, 1, 1], padding='SAME')\n",
        "\n",
        "def max_pool_2by2(x):\n",
        "    return tf.nn.max_pool(x, ksize=[1, 2, 2, 1],\n",
        "                          strides=[1, 2, 2, 1], padding='SAME')\n",
        "\n",
        "def convolutional_layer(input_x, shape):\n",
        "    W = init_weights(shape)\n",
        "    b = init_bias([shape[3]])\n",
        "    return tf.nn.relu(conv2d(input_x, W) + b)\n",
        "\n",
        "def normal_full_layer(input_layer, size):\n",
        "    input_size = int(input_layer.get_shape()[1])\n",
        "    W = init_weights([input_size, size])\n",
        "    b = init_bias([size])\n",
        "    return tf.matmul(input_layer, W) + b\n",
        "\n",
        "def next_batch(num, data, labels):\n",
        "    '''\n",
        "    Return a total of `num` random samples and labels. \n",
        "    '''\n",
        "    idx = np.arange(0 , len(data))\n",
        "    np.random.shuffle(idx)\n",
        "    idx = idx[:num]\n",
        "    data_shuffle = [data[ i] for i in idx]\n",
        "    labels_shuffle = [labels[ i] for i in idx]\n",
        "\n",
        "    return np.asarray(data_shuffle), np.asarray(labels_shuffle)"
      ],
      "execution_count": 0,
      "outputs": []
    },
    {
      "cell_type": "markdown",
      "metadata": {
        "id": "321wjnZ2BL8q",
        "colab_type": "text"
      },
      "source": [
        "### Create the graph"
      ]
    },
    {
      "cell_type": "markdown",
      "metadata": {
        "id": "rhDsIg0pBL8r",
        "colab_type": "text"
      },
      "source": [
        "#### Placeholder"
      ]
    },
    {
      "cell_type": "code",
      "metadata": {
        "id": "GW20dsxiBL8s",
        "colab_type": "code",
        "colab": {}
      },
      "source": [
        "x = tf.placeholder(tf.float32,shape=[None,784])\n",
        "y_true = tf.placeholder(tf.float32,shape=[None,10])"
      ],
      "execution_count": 0,
      "outputs": []
    },
    {
      "cell_type": "markdown",
      "metadata": {
        "id": "vTGw6jZTBL8u",
        "colab_type": "text"
      },
      "source": [
        "#### Layers"
      ]
    },
    {
      "cell_type": "code",
      "metadata": {
        "id": "FK-8x6nqBL8v",
        "colab_type": "code",
        "colab": {}
      },
      "source": [
        "x_image = tf.reshape(x,[-1,28,28,1])\n",
        "\n",
        "convo_1 = convolutional_layer(x_image,shape=[6,6,1,32])\n",
        "convo_1_pooling = max_pool_2by2(convo_1)\n",
        "\n",
        "convo_2 = convolutional_layer(convo_1_pooling,shape=[6,6,32,64])\n",
        "convo_2_pooling = max_pool_2by2(convo_2)\n",
        "\n",
        "convo_2_flat = tf.reshape(convo_2_pooling,[-1,7*7*64])\n",
        "full_layer_one = tf.nn.relu(normal_full_layer(convo_2_flat,1024))\n",
        "\n",
        "hold_prob = tf.placeholder(tf.float32)\n",
        "full_one_dropout = tf.nn.dropout(full_layer_one,rate=1-hold_prob)\n",
        "\n",
        "y_pred = normal_full_layer(full_one_dropout,10)"
      ],
      "execution_count": 0,
      "outputs": []
    },
    {
      "cell_type": "markdown",
      "metadata": {
        "id": "Rj8QQNCXBL8w",
        "colab_type": "text"
      },
      "source": [
        "#### Loss Function"
      ]
    },
    {
      "cell_type": "code",
      "metadata": {
        "id": "SsXiEitgBL8x",
        "colab_type": "code",
        "colab": {}
      },
      "source": [
        "cross_entropy = tf.reduce_mean(tf.nn.softmax_cross_entropy_with_logits(labels=y_true,logits=y_pred))\n",
        "\n",
        "#tf.cast?!?!?!"
      ],
      "execution_count": 0,
      "outputs": []
    },
    {
      "cell_type": "markdown",
      "metadata": {
        "id": "ixwZj8IfBL8z",
        "colab_type": "text"
      },
      "source": [
        "#### Optimizer"
      ]
    },
    {
      "cell_type": "code",
      "metadata": {
        "id": "TgcvBug8BL8z",
        "colab_type": "code",
        "colab": {}
      },
      "source": [
        "optimizer = tf.train.AdamOptimizer(learning_rate=0.0001)\n",
        "train = optimizer.minimize(cross_entropy)"
      ],
      "execution_count": 0,
      "outputs": []
    },
    {
      "cell_type": "markdown",
      "metadata": {
        "id": "8iLM31RMBL80",
        "colab_type": "text"
      },
      "source": [
        "#### Initialize Variables"
      ]
    },
    {
      "cell_type": "code",
      "metadata": {
        "id": "kKTVJ1W4BL80",
        "colab_type": "code",
        "colab": {}
      },
      "source": [
        "init = tf.global_variables_initializer()"
      ],
      "execution_count": 0,
      "outputs": []
    },
    {
      "cell_type": "markdown",
      "metadata": {
        "id": "albwakEdBL81",
        "colab_type": "text"
      },
      "source": [
        "### Create the session"
      ]
    },
    {
      "cell_type": "code",
      "metadata": {
        "id": "lSUCZXUzBL81",
        "colab_type": "code",
        "outputId": "4337516b-918b-4ebc-facd-48142665f17f",
        "colab": {
          "base_uri": "https://localhost:8080/",
          "height": 1000
        }
      },
      "source": [
        "steps = 1000\n",
        "# 1000 steps ~ 95% accuracy - train in approx. 5 mins on Google Colab\n",
        "# 5000 steps ~ 97.5% accuracy\n",
        "\n",
        "# Train the model, only if we don't have a model.ckpt at hand\n",
        "with tf.Session() as sess:\n",
        "    \n",
        "    sess.run(init)\n",
        "    \n",
        "    for i in range(steps):\n",
        "        \n",
        "        batch_x , batch_y = next_batch(50, X_train, y_train)\n",
        "        \n",
        "        sess.run(train,feed_dict={x:batch_x,y_true:batch_y,hold_prob:0.5})\n",
        "        \n",
        "        # PRINT OUT A MESSAGE EVERY 100 STEPS\n",
        "        if i%100 == 0:\n",
        "            \n",
        "            print('Currently on step {}'.format(i))\n",
        "            print('Accuracy is:')\n",
        "            # Test the Train Model\n",
        "            matches = tf.equal(tf.argmax(y_pred,1),tf.argmax(y_true,1))\n",
        "\n",
        "            acc = tf.reduce_mean(tf.cast(matches,tf.float32))\n",
        "\n",
        "            print(sess.run(acc,feed_dict={x:X_test,y_true:y_test,hold_prob:1.0}))\n",
        "            print('\\n')\n",
        "   "
      ],
      "execution_count": 0,
      "outputs": [
        {
          "output_type": "stream",
          "text": [
            "Currently on step 0\n",
            "Accuracy is:\n",
            "0.08154762\n",
            "\n",
            "\n",
            "Currently on step 100\n",
            "Accuracy is:\n",
            "0.8490476\n",
            "\n",
            "\n",
            "Currently on step 200\n",
            "Accuracy is:\n",
            "0.9091667\n",
            "\n",
            "\n",
            "Currently on step 300\n",
            "Accuracy is:\n",
            "0.91821426\n",
            "\n",
            "\n",
            "Currently on step 400\n",
            "Accuracy is:\n",
            "0.92833334\n",
            "\n",
            "\n",
            "Currently on step 500\n",
            "Accuracy is:\n",
            "0.9380952\n",
            "\n",
            "\n",
            "Currently on step 600\n",
            "Accuracy is:\n",
            "0.94404763\n",
            "\n",
            "\n",
            "Currently on step 700\n",
            "Accuracy is:\n",
            "0.9458333\n",
            "\n",
            "\n",
            "Currently on step 800\n",
            "Accuracy is:\n",
            "0.9488095\n",
            "\n",
            "\n",
            "Currently on step 900\n",
            "Accuracy is:\n",
            "0.9532143\n",
            "\n",
            "\n",
            "Go to this URL in a browser: https://accounts.google.com/o/oauth2/auth?client_id=947318989803-6bn6qk8qdgf4n4g3pfee6491hc0brc4i.apps.googleusercontent.com&redirect_uri=urn%3Aietf%3Awg%3Aoauth%3A2.0%3Aoob&scope=email%20https%3A%2F%2Fwww.googleapis.com%2Fauth%2Fdocs.test%20https%3A%2F%2Fwww.googleapis.com%2Fauth%2Fdrive%20https%3A%2F%2Fwww.googleapis.com%2Fauth%2Fdrive.photos.readonly%20https%3A%2F%2Fwww.googleapis.com%2Fauth%2Fpeopleapi.readonly&response_type=code\n",
            "\n",
            "Enter your authorization code:\n",
            "··········\n",
            "Mounted at /content/gdrive\n"
          ],
          "name": "stdout"
        }
      ]
    },
    {
      "cell_type": "code",
      "metadata": {
        "id": "TLxNZWOLBL83",
        "colab_type": "code",
        "colab": {}
      },
      "source": [
        "# My model in the wild\n",
        "\n",
        "# Load the digit\n",
        "# View the image\n",
        "# Convert to gray-scale\n",
        "# Crop to 28x by 28px\n",
        "# View the cleansed image\n",
        "# Convert to array, Flatten to 784 by 1\n",
        "# Make a prediction using the model\n"
      ],
      "execution_count": 0,
      "outputs": []
    },
    {
      "cell_type": "code",
      "metadata": {
        "id": "MBigp6b-BL84",
        "colab_type": "code",
        "colab": {}
      },
      "source": [
        ""
      ],
      "execution_count": 0,
      "outputs": []
    },
    {
      "cell_type": "code",
      "metadata": {
        "id": "DIA6TC3nBL84",
        "colab_type": "code",
        "colab": {}
      },
      "source": [
        ""
      ],
      "execution_count": 0,
      "outputs": []
    }
  ]
}