{
  "nbformat": 4,
  "nbformat_minor": 0,
  "metadata": {
    "kernelspec": {
      "display_name": "Python 3",
      "language": "python",
      "name": "python3"
    },
    "language_info": {
      "codemirror_mode": {
        "name": "ipython",
        "version": 3
      },
      "file_extension": ".py",
      "mimetype": "text/x-python",
      "name": "python",
      "nbconvert_exporter": "python",
      "pygments_lexer": "ipython3",
      "version": "3.7.3"
    },
    "colab": {
      "name": "digitRecognition.ipynb",
      "provenance": [],
      "collapsed_sections": []
    }
  },
  "cells": [
    {
      "cell_type": "markdown",
      "metadata": {
        "id": "4BxPzJCuBL8F",
        "colab_type": "text"
      },
      "source": [
        "# \"Digit Recognizer\" Kaggle Exercise"
      ]
    },
    {
      "cell_type": "markdown",
      "metadata": {
        "id": "Ab4KrDiKBL8I",
        "colab_type": "text"
      },
      "source": [
        "https://www.kaggle.com/c/digit-recognizer"
      ]
    },
    {
      "cell_type": "code",
      "metadata": {
        "id": "9kaZncOeLvki",
        "colab_type": "code",
        "outputId": "1c458197-8b60-4af5-8f19-62680d512533",
        "colab": {
          "base_uri": "https://localhost:8080/",
          "height": 229
        }
      },
      "source": [
        "from google.colab import drive\n",
        "drive.mount('/content/drive')"
      ],
      "execution_count": 0,
      "outputs": [
        {
          "output_type": "stream",
          "text": [
            "Go to this URL in a browser: https://accounts.google.com/o/oauth2/auth?client_id=947318989803-6bn6qk8qdgf4n4g3pfee6491hc0brc4i.apps.googleusercontent.com&redirect_uri=urn%3aietf%3awg%3aoauth%3a2.0%3aoob&response_type=code&scope=email%20https%3a%2f%2fwww.googleapis.com%2fauth%2fdocs.test%20https%3a%2f%2fwww.googleapis.com%2fauth%2fdrive%20https%3a%2f%2fwww.googleapis.com%2fauth%2fdrive.photos.readonly%20https%3a%2f%2fwww.googleapis.com%2fauth%2fpeopleapi.readonly\n",
            "\n",
            "Enter your authorization code:\n",
            "··········\n",
            "Mounted at /content/drive\n"
          ],
          "name": "stdout"
        }
      ]
    },
    {
      "cell_type": "markdown",
      "metadata": {
        "id": "2pNUQWIZBL8K",
        "colab_type": "text"
      },
      "source": [
        "## Overview\n",
        "\n",
        "The MNIST dataset is a collection of 60,000 labelled 28px by 28px images of hand-written digits - from 0-9. It is the \"hello-world\" of neural networks for computer vision. I will use it to classify my own handwritten digit.\n",
        "\n",
        "##### Purpose:\n",
        "* To have a clean af notebook for CNN's\n",
        "* To understand CNN's better\n",
        "\n",
        "<br/>\n",
        "\n",
        "#### Initial Method was to use a SVM/SVC - this was too slow!\n",
        "I switched over to Convolutional Neural Networks\n",
        "\n",
        "<br/>\n",
        "\n",
        "\n",
        "## Method\n",
        "\n",
        "* Import the libraries\n",
        "* Load the data\n",
        "* Explore the data - visualise\n",
        "* Create the graph\n",
        "* Create the session - train the model\n",
        "* Make a prediction\n",
        "* Test the model in the wild\n",
        "\n",
        "<br/>\n",
        "\n",
        "\n",
        "## Explanation\n",
        "\n",
        "* CNN's are really good for computer vision as they resemble the visual cortex present in mammals. Neurons in the visual cortex have a small local receptive field - meaning that they are on the look out for certain feature by activating in unison with other linked neurons in the visual cortex.\n",
        "* The premise for what CCN's are is: You filter images (which have a huge amount of information) down into it's most important features, then a DNN layer is used for the final classification.\n",
        "* CNN Architecture\n",
        "![](https://raw.githubusercontent.com/JRSmiffy/Kaggle/master/digitRecognition/res/CNN0.png)\n",
        "A CNN can be roughly divided into two main sections: A Feature Extraction layer (with Feature Maps (Convolutions) and Pooling (Subsampling)) and a Classification layer (Fully-Connected NN).\n",
        "* Feature Extraction: \n",
        "![](https://raw.githubusercontent.com/JRSmiffy/Kaggle/master/digitRecognition/res/CNN3.png)\n",
        "Filters are used to convolve (slide) over the input pixels at specific stride. This is done in order to accentuate certain features that are relevant for classification and under-play features that are irrelevant. A matrix multiplication and summation occurs where a Feature Map is produced from the filter and the input pixels.\n",
        "![](https://raw.githubusercontent.com/JRSmiffy/Kaggle/master/digitRecognition/res/CNN2.png)\n",
        "Pooling is the process by which pixels are grouped together and filtered down into a subset. An example is MAXPOOLING2BY2 - where a set of 4 pixels are reduced to one by selecting the max value in the set. Pooling serves to reduce the training time and chance of overfitting by reducing dimensionality / size.\n",
        "* There are 4 Hyper-Parameters that you need to choose in your architecture: <br>\n",
        "Filter Size <br/>\n",
        "Stride Length <br/>\n",
        "Padding (keeps the feature maps the same size as the input data) <br/>\n",
        "Filter Count <br/>\n",
        "* Mulitple Feature Maps can be used in each layer, that will get combined to form the output for that CNN layer.\n",
        "* Each layer of the CNN looks at a larger section of the overall image - building up groups of features that are the building blocks of real-world objects.\n",
        "\n",
        "\n",
        "<br/>\n",
        "\n",
        "Sources:\n",
        "* TF Udemy Course\n",
        "* https://www.freecodecamp.org/news/an-intuitive-guide-to-convolutional-neural-networks-260c2de0a050/\n",
        "* https://www.youtube.com/watch?v=x_VrgWTKkiM&vl=en\n",
        "\n",
        "\n",
        "<br/>\n",
        "\n",
        "\n",
        "## Observations\n",
        "\n",
        "* I tried to run this on a Jupyter NB locally, which was too slow! Colab FTW.\n",
        "* I tried to save and restore the model to GitHub. I couldn't get it to work, so I've settled for Drive.\n",
        "* 10k steps barely improved on 5k. I reckon a change in architecture is needed. \n",
        "* This CNN was built with the run of the mill Tensor Flow. Maybe try **Keras** next time - an abstraction on TF?\n",
        "\n",
        "\n"
      ]
    },
    {
      "cell_type": "markdown",
      "metadata": {
        "id": "_CYJb1AcBL8M",
        "colab_type": "text"
      },
      "source": [
        "# Code"
      ]
    },
    {
      "cell_type": "markdown",
      "metadata": {
        "id": "YPd4Y8oPBL8N",
        "colab_type": "text"
      },
      "source": [
        "### Imports"
      ]
    },
    {
      "cell_type": "code",
      "metadata": {
        "id": "8_GufViRBL8P",
        "colab_type": "code",
        "outputId": "5ba6952d-6f16-4cd2-8cc2-be984b9f1515",
        "colab": {
          "base_uri": "https://localhost:8080/",
          "height": 74
        }
      },
      "source": [
        "import pandas as pd\n",
        "import tensorflow as tf\n",
        "import matplotlib.pyplot as plt\n",
        "%matplotlib inline\n",
        "import random\n",
        "import numpy as np\n",
        "from sklearn.model_selection import train_test_split\n"
      ],
      "execution_count": 0,
      "outputs": [
        {
          "output_type": "stream",
          "text": [
            "Drive already mounted at /content/drive; to attempt to forcibly remount, call drive.mount(\"/content/drive\", force_remount=True).\n"
          ],
          "name": "stdout"
        }
      ]
    },
    {
      "cell_type": "code",
      "metadata": {
        "id": "pgbdVlaYBL8S",
        "colab_type": "code",
        "colab": {}
      },
      "source": [
        "import os\n",
        "os.environ['KMP_DUPLICATE_LIB_OK']='True'\n",
        "\n",
        "# This fixed an issue that kept causing the kernel to die. I have no idea what it does..."
      ],
      "execution_count": 0,
      "outputs": []
    },
    {
      "cell_type": "markdown",
      "metadata": {
        "id": "M5-tu5FCBL8W",
        "colab_type": "text"
      },
      "source": [
        "### Load the data"
      ]
    },
    {
      "cell_type": "code",
      "metadata": {
        "id": "tIsT5EatBL8X",
        "colab_type": "code",
        "outputId": "de3156a2-168b-4367-8926-79dd7b6943bd",
        "colab": {
          "base_uri": "https://localhost:8080/",
          "height": 918
        }
      },
      "source": [
        "url = 'https://raw.githubusercontent.com/JRSmiffy/Kaggle/master/digitRecognition/train.csv'\n",
        "train_set = pd.read_csv(url)\n",
        "url = 'https://raw.githubusercontent.com/JRSmiffy/Kaggle/master/digitRecognition/test.csv'\n",
        "test_set = pd.read_csv(url)\n",
        "\n",
        "print(\"train set\")\n",
        "print((train_set.values))\n",
        "\n",
        "print(\"test set\")\n",
        "print((test_set.values[0])) # This is a number, without a label"
      ],
      "execution_count": 0,
      "outputs": [
        {
          "output_type": "stream",
          "text": [
            "train set\n",
            "[[1 0 0 ... 0 0 0]\n",
            " [0 0 0 ... 0 0 0]\n",
            " [1 0 0 ... 0 0 0]\n",
            " ...\n",
            " [7 0 0 ... 0 0 0]\n",
            " [6 0 0 ... 0 0 0]\n",
            " [9 0 0 ... 0 0 0]]\n",
            "test set\n",
            "[  0   0   0   0   0   0   0   0   0   0   0   0   0   0   0   0   0   0\n",
            "   0   0   0   0   0   0   0   0   0   0   0   0   0   0   0   0   0   0\n",
            "   0   0   0   0   0   0   0   0   0   0   0   0   0   0   0   0   0   0\n",
            "   0   0   0   0   0   0   0   0   0   0   0   0   0   0   0   0   0   0\n",
            "   0   0   0   0   0   0   0   0   0   0   0   0   0   0   0   0   0   0\n",
            "   0   0   0   0   0   0   0   0   0   0   0   0   0   0   0   0   0   0\n",
            "   0   0   0   0   0   0   0   0   0   0   0   0   0   0  10  17  17  17\n",
            "  17  81 180 180  35   0   0   0   0   0   0   0   0   0   0   0   0   0\n",
            "   0   0   0   0   0   0 139 253 253 253 253 253 253 253  48   0   0   0\n",
            "   0   0   0   0   0   0   0   0   0   0   0   0   0   0   0  60 228 253\n",
            " 253 253 253 253 253 253 207 197  46   0   0   0   0   0   0   0   0   0\n",
            "   0   0   0   0   0   0   0 213 253 253 253 253 253 253 253 253 253 253\n",
            " 223  52   0   0   0   0   0   0   0   0   0   0   0   0   0   0   0  66\n",
            " 231 253 253 253 108  40  40 115 244 253 253 134   3   0   0   0   0   0\n",
            "   0   0   0   0   0   0   0   0   0   0  63 114 114 114  37   0   0   0\n",
            " 205 253 253 253  15   0   0   0   0   0   0   0   0   0   0   0   0   0\n",
            "   0   0   0   0   0   0   0   0   0   0  57 253 253 253  15   0   0   0\n",
            "   0   0   0   0   0   0   0   0   0   0   0   0   0   0   0   0   0   0\n",
            "   0   0  42 253 253 253  15   0   0   0   0   0   0   0   0   0   0   0\n",
            "   0   0   0   0   0   0   0   0   0   0   0   0  95 253 253 253  15   0\n",
            "   0   0   0   0   0   0   0   0   0   0   0   0   0   0   0   0   0   0\n",
            "   0   0   0   0 205 253 253 253  15   0   0   0   0   0   0   0   0   0\n",
            "   0   0   0   0   0   0   0   0  61  99  96   0   0  45 224 253 253 195\n",
            "  10   0   0   0   0   0   0   0   0   0   0   0  11  25 105  83 189 189\n",
            " 228 253 251 189 189 218 253 253 210  27   0   0   0   0   0   0   0   0\n",
            "   0   0  42 116 173 253 253 253 253 253 253 253 253 253 253 253 253 253\n",
            " 221 116   7   0   0   0   0   0   0   0   0   0 118 253 253 253 253 245\n",
            " 212 222 253 253 253 253 253 253 253 253 253 253 160  15   0   0   0   0\n",
            "   0   0   0   0 254 253 253 253 189  99   0  32 202 253 253 253 240 122\n",
            " 122 190 253 253 253 174   0   0   0   0   0   0   0   0 255 253 253 253\n",
            " 238 222 222 222 241 253 253 230  70   0   0  17 175 229 253 253   0   0\n",
            "   0   0   0   0   0   0 158 253 253 253 253 253 253 253 253 205 106  65\n",
            "   0   0   0   0   0  62 244 157   0   0   0   0   0   0   0   0   6  26\n",
            " 179 179 179 179 179  30  15  10   0   0   0   0   0   0   0   0  14   6\n",
            "   0   0   0   0   0   0   0   0   0   0   0   0   0   0   0   0   0   0\n",
            "   0   0   0   0   0   0   0   0   0   0   0   0   0   0   0   0   0   0\n",
            "   0   0   0   0   0   0   0   0   0   0   0   0   0   0   0   0   0   0\n",
            "   0   0   0   0   0   0   0   0   0   0   0   0   0   0   0   0   0   0\n",
            "   0   0   0   0   0   0   0   0   0   0   0   0   0   0   0   0   0   0\n",
            "   0   0   0   0   0   0   0   0   0   0   0   0   0   0   0   0   0   0\n",
            "   0   0   0   0   0   0   0   0   0   0   0   0   0   0   0   0   0   0\n",
            "   0   0   0   0   0   0   0   0   0   0   0   0   0   0   0   0   0   0\n",
            "   0   0   0   0   0   0   0   0   0   0   0   0   0   0   0   0   0   0\n",
            "   0   0   0   0   0   0   0   0   0   0]\n"
          ],
          "name": "stdout"
        }
      ]
    },
    {
      "cell_type": "markdown",
      "metadata": {
        "id": "ux461DOoBL8c",
        "colab_type": "text"
      },
      "source": [
        "The 60k images are split into train (42K) & test (28K). \n",
        "The Train CSV file contains rows comprised of the label for the digit and a grayscale value for each of the 784 pixels for that image. The Test CSV file contains the pixel information, but has no attached label."
      ]
    },
    {
      "cell_type": "markdown",
      "metadata": {
        "id": "2PJIPGZEBL8f",
        "colab_type": "text"
      },
      "source": [
        "### Explore the data"
      ]
    },
    {
      "cell_type": "code",
      "metadata": {
        "id": "d-t8VlpGBL8g",
        "colab_type": "code",
        "outputId": "51eb50a8-5309-405e-aace-3b43065e715f",
        "colab": {
          "base_uri": "https://localhost:8080/",
          "height": 282
        }
      },
      "source": [
        "single_image = (train_set.iloc[450, 1:]).values # Extract a single row, convert to array\n",
        "\n",
        "single_image = single_image.reshape(28,28)\n",
        "plt.imshow(single_image)"
      ],
      "execution_count": 0,
      "outputs": [
        {
          "output_type": "execute_result",
          "data": {
            "text/plain": [
              "<matplotlib.image.AxesImage at 0x7f066a588748>"
            ]
          },
          "metadata": {
            "tags": []
          },
          "execution_count": 281
        },
        {
          "output_type": "display_data",
          "data": {
            "image/png": "[encoded data removed]",
            "text/plain": [
              "<Figure size 432x288 with 1 Axes>"
            ]
          },
          "metadata": {
            "tags": []
          }
        }
      ]
    },
    {
      "cell_type": "markdown",
      "metadata": {
        "id": "ZU75Z28QBL8k",
        "colab_type": "text"
      },
      "source": [
        "### Make the data usable"
      ]
    },
    {
      "cell_type": "code",
      "metadata": {
        "id": "ZJmZ-zeJBL8k",
        "colab_type": "code",
        "outputId": "fdc7a24b-b412-4118-c255-c072331103e4",
        "colab": {
          "base_uri": "https://localhost:8080/",
          "height": 595
        }
      },
      "source": [
        "X_train = (train_set.iloc[:, 1:]).values # Drop label & convert to array\n",
        "y_train = (train_set.iloc[:,0]).values # (Drop label)' & convert to array\n",
        "print(\"\\n\")\n",
        "print(\"X_train\")\n",
        "print(X_train)\n",
        "print(\"\\n\")\n",
        "print(\"y_train\")\n",
        "print(y_train)\n",
        "\n",
        "# One-Hot Encode y_train\n",
        "y_train = pd.get_dummies(y_train)\n",
        "y_train = (y_train.iloc[:, 0:]).values\n",
        "print(\"\\n\")\n",
        "print(\"y_train One-Hot Encoded\")\n",
        "print(y_train)\n",
        "\n",
        "\n",
        "X_test = (test_set.iloc[:, 1:]).values # Drop label & convert to array\n",
        "print(\"\\n\")\n",
        "print(\"X_test\")\n",
        "print(X_test)\n",
        "\n",
        "\n",
        "X_train, X_test, y_train, y_test = train_test_split(X_train, y_train, test_size=0.2, random_state=101)"
      ],
      "execution_count": 0,
      "outputs": [
        {
          "output_type": "stream",
          "text": [
            "\n",
            "\n",
            "X_train\n",
            "[[0 0 0 ... 0 0 0]\n",
            " [0 0 0 ... 0 0 0]\n",
            " [0 0 0 ... 0 0 0]\n",
            " ...\n",
            " [0 0 0 ... 0 0 0]\n",
            " [0 0 0 ... 0 0 0]\n",
            " [0 0 0 ... 0 0 0]]\n",
            "\n",
            "\n",
            "y_train\n",
            "[1 0 1 ... 7 6 9]\n",
            "\n",
            "\n",
            "y_train One-Hot Encoded\n",
            "[[0 1 0 ... 0 0 0]\n",
            " [1 0 0 ... 0 0 0]\n",
            " [0 1 0 ... 0 0 0]\n",
            " ...\n",
            " [0 0 0 ... 1 0 0]\n",
            " [0 0 0 ... 0 0 0]\n",
            " [0 0 0 ... 0 0 1]]\n",
            "\n",
            "\n",
            "X_test\n",
            "[[0 0 0 ... 0 0 0]\n",
            " [0 0 0 ... 0 0 0]\n",
            " [0 0 0 ... 0 0 0]\n",
            " ...\n",
            " [0 0 0 ... 0 0 0]\n",
            " [0 0 0 ... 0 0 0]\n",
            " [0 0 0 ... 0 0 0]]\n"
          ],
          "name": "stdout"
        }
      ]
    },
    {
      "cell_type": "markdown",
      "metadata": {
        "id": "psBVSw8MBL8n",
        "colab_type": "text"
      },
      "source": [
        "### Helper functions\n",
        "\n",
        "#### init_weights & init_bias\n",
        "Initialize random weights & biases for the fully connected or convolutional layers.\n",
        "\n",
        "#### conv2d\n",
        "\n",
        "#### max_pool_2by2\n",
        "\n",
        "#### convolutional_layer\n",
        "\n",
        "#### normal_full_layer\n",
        "\n",
        "#### next_batch\n"
      ]
    },
    {
      "cell_type": "code",
      "metadata": {
        "id": "-xWgXCmABL8o",
        "colab_type": "code",
        "colab": {}
      },
      "source": [
        "def init_weights(shape):\n",
        "    init_random_dist = tf.truncated_normal(shape, stddev=0.1)\n",
        "    return tf.Variable(init_random_dist)\n",
        "\n",
        "def init_bias(shape):\n",
        "    init_bias_vals = tf.constant(0.1, shape=shape)\n",
        "    return tf.Variable(init_bias_vals)\n",
        "\n",
        "def conv2d(x, W):\n",
        "    return tf.nn.conv2d(x, W, strides=[1, 1, 1, 1], padding='SAME')\n",
        "\n",
        "def max_pool_2by2(x):\n",
        "    return tf.nn.max_pool(x, ksize=[1, 2, 2, 1],\n",
        "                          strides=[1, 2, 2, 1], padding='SAME')\n",
        "\n",
        "def convolutional_layer(input_x, shape):\n",
        "    W = init_weights(shape)\n",
        "    b = init_bias([shape[3]])\n",
        "    return tf.nn.relu(conv2d(input_x, W) + b)\n",
        "\n",
        "def normal_full_layer(input_layer, size):\n",
        "    input_size = int(input_layer.get_shape()[1])\n",
        "    W = init_weights([input_size, size])\n",
        "    b = init_bias([size])\n",
        "    return tf.matmul(input_layer, W) + b\n",
        "\n",
        "def next_batch(num, data, labels):\n",
        "    '''\n",
        "    Return a total of `num` random samples and labels. \n",
        "    '''\n",
        "    idx = np.arange(0 , len(data))\n",
        "    np.random.shuffle(idx)\n",
        "    idx = idx[:num]\n",
        "    data_shuffle = [data[ i] for i in idx]\n",
        "    labels_shuffle = [labels[ i] for i in idx]\n",
        "\n",
        "    return np.asarray(data_shuffle), np.asarray(labels_shuffle)"
      ],
      "execution_count": 0,
      "outputs": []
    },
    {
      "cell_type": "markdown",
      "metadata": {
        "id": "321wjnZ2BL8q",
        "colab_type": "text"
      },
      "source": [
        "### Create the graph"
      ]
    },
    {
      "cell_type": "markdown",
      "metadata": {
        "id": "rhDsIg0pBL8r",
        "colab_type": "text"
      },
      "source": [
        "#### Placeholder"
      ]
    },
    {
      "cell_type": "code",
      "metadata": {
        "id": "GW20dsxiBL8s",
        "colab_type": "code",
        "colab": {}
      },
      "source": [
        "x = tf.placeholder(tf.float32,shape=[None,784])\n",
        "y_true = tf.placeholder(tf.float32,shape=[None,10])"
      ],
      "execution_count": 0,
      "outputs": []
    },
    {
      "cell_type": "markdown",
      "metadata": {
        "id": "vTGw6jZTBL8u",
        "colab_type": "text"
      },
      "source": [
        "#### Layers"
      ]
    },
    {
      "cell_type": "code",
      "metadata": {
        "id": "FK-8x6nqBL8v",
        "colab_type": "code",
        "colab": {}
      },
      "source": [
        "x_image = tf.reshape(x,[-1,28,28,1])\n",
        "\n",
        "convo_1 = convolutional_layer(x_image,shape=[6,6,1,32])\n",
        "convo_1_pooling = max_pool_2by2(convo_1)\n",
        "\n",
        "convo_2 = convolutional_layer(convo_1_pooling,shape=[6,6,32,64])\n",
        "convo_2_pooling = max_pool_2by2(convo_2)\n",
        "\n",
        "convo_2_flat = tf.reshape(convo_2_pooling,[-1,7*7*64])\n",
        "full_layer_one = tf.nn.relu(normal_full_layer(convo_2_flat,1024))\n",
        "\n",
        "hold_prob = tf.placeholder(tf.float32)\n",
        "full_one_dropout = tf.nn.dropout(full_layer_one,rate=1-hold_prob)\n",
        "\n",
        "y_pred = normal_full_layer(full_one_dropout,10)"
      ],
      "execution_count": 0,
      "outputs": []
    },
    {
      "cell_type": "markdown",
      "metadata": {
        "id": "Rj8QQNCXBL8w",
        "colab_type": "text"
      },
      "source": [
        "#### Loss Function"
      ]
    },
    {
      "cell_type": "code",
      "metadata": {
        "id": "SsXiEitgBL8x",
        "colab_type": "code",
        "colab": {}
      },
      "source": [
        "cross_entropy = tf.reduce_mean(tf.nn.softmax_cross_entropy_with_logits(labels=y_true,logits=y_pred))\n",
        "\n",
        "#tf.cast?!?!?!"
      ],
      "execution_count": 0,
      "outputs": []
    },
    {
      "cell_type": "markdown",
      "metadata": {
        "id": "ixwZj8IfBL8z",
        "colab_type": "text"
      },
      "source": [
        "#### Optimizer"
      ]
    },
    {
      "cell_type": "code",
      "metadata": {
        "id": "TgcvBug8BL8z",
        "colab_type": "code",
        "colab": {}
      },
      "source": [
        "optimizer = tf.train.AdamOptimizer(learning_rate=0.0001)\n",
        "train = optimizer.minimize(cross_entropy)"
      ],
      "execution_count": 0,
      "outputs": []
    },
    {
      "cell_type": "markdown",
      "metadata": {
        "id": "8iLM31RMBL80",
        "colab_type": "text"
      },
      "source": [
        "#### Initialize Variables"
      ]
    },
    {
      "cell_type": "code",
      "metadata": {
        "id": "kKTVJ1W4BL80",
        "colab_type": "code",
        "colab": {}
      },
      "source": [
        "init = tf.global_variables_initializer()"
      ],
      "execution_count": 0,
      "outputs": []
    },
    {
      "cell_type": "markdown",
      "metadata": {
        "id": "albwakEdBL81",
        "colab_type": "text"
      },
      "source": [
        "### Create the session"
      ]
    },
    {
      "cell_type": "code",
      "metadata": {
        "id": "flV8IlesvD7i",
        "colab_type": "code",
        "colab": {}
      },
      "source": [
        "saver = tf.train.Saver()"
      ],
      "execution_count": 0,
      "outputs": []
    },
    {
      "cell_type": "code",
      "metadata": {
        "id": "lSUCZXUzBL81",
        "colab_type": "code",
        "outputId": "b27308f5-5737-4a95-8381-f6d2c9a1aa1d",
        "colab": {
          "base_uri": "https://localhost:8080/",
          "height": 867
        }
      },
      "source": [
        "steps = 1000\n",
        "# 1000 steps ~ 95% accuracy - train in approx. 5 mins on Google Colab\n",
        "# 5000 steps ~ 97.5% accuracy\n",
        "\n",
        "\n",
        "# Train the model, only if we don't have a model.pt at hand\n",
        "\n",
        "toggleOff = \"\"\"\n",
        "\n",
        "with tf.Session() as sess:\n",
        "    \n",
        "    sess.run(init)\n",
        "    \n",
        "    for i in range(steps):\n",
        "        \n",
        "        batch_x , batch_y = next_batch(50, X_train, y_train)\n",
        "        \n",
        "        sess.run(train,feed_dict={x:batch_x,y_true:batch_y,hold_prob:0.5})\n",
        "        \n",
        "        # PRINT OUT A MESSAGE EVERY 100 STEPS\n",
        "        if i%100 == 0:\n",
        "            \n",
        "            print('Currently on step {}'.format(i))\n",
        "            print('Accuracy is:')\n",
        "            # Test the Train Model\n",
        "            matches = tf.equal(tf.argmax(y_pred,1),tf.argmax(y_true,1))\n",
        "\n",
        "            acc = tf.reduce_mean(tf.cast(matches,tf.float32))\n",
        "\n",
        "            print(sess.run(acc,feed_dict={x:X_test,y_true:y_test,hold_prob:1.0}))\n",
        "            print('\\n')\n",
        "  \n",
        "    digitRecognitionModel = 'digitRecognitionModel.pt'\n",
        "    path = F\"/content/drive/My Drive/{digitRecognitionModel}\"\n",
        "    saver.save(sess, path)\n",
        "    \n",
        "    \"\"\"\n",
        "   "
      ],
      "execution_count": 0,
      "outputs": [
        {
          "output_type": "stream",
          "text": [
            "Currently on step 0\n",
            "Accuracy is:\n",
            "0.09547619\n",
            "\n",
            "\n",
            "Currently on step 100\n",
            "Accuracy is:\n",
            "0.85714287\n",
            "\n",
            "\n",
            "Currently on step 200\n",
            "Accuracy is:\n",
            "0.91190475\n",
            "\n",
            "\n",
            "Currently on step 300\n",
            "Accuracy is:\n",
            "0.92940474\n",
            "\n",
            "\n",
            "Currently on step 400\n",
            "Accuracy is:\n",
            "0.9375\n",
            "\n",
            "\n",
            "Currently on step 500\n",
            "Accuracy is:\n",
            "0.94404763\n",
            "\n",
            "\n",
            "Currently on step 600\n",
            "Accuracy is:\n",
            "0.9489286\n",
            "\n",
            "\n",
            "Currently on step 700\n",
            "Accuracy is:\n",
            "0.95035714\n",
            "\n",
            "\n",
            "Currently on step 800\n",
            "Accuracy is:\n",
            "0.95488095\n",
            "\n",
            "\n",
            "Currently on step 900\n",
            "Accuracy is:\n",
            "0.9584524\n",
            "\n",
            "\n"
          ],
          "name": "stdout"
        }
      ]
    },
    {
      "cell_type": "markdown",
      "metadata": {
        "id": "8Xh3phqMhFtX",
        "colab_type": "text"
      },
      "source": [
        "### Testing the model in the wild\n",
        "\n",
        "* Load the digit image from Google Cloud\n",
        "* Display the unprocessed image\n",
        "* Convert image to gray-scale\n",
        "* Resize and crop image (28px by 28px)\n",
        "* Display the processed image\n",
        "* Convert the image into an array and flatten it (784 by 1)\n",
        "* Make a prediction using the model\n"
      ]
    },
    {
      "cell_type": "code",
      "metadata": {
        "id": "TLxNZWOLBL83",
        "colab_type": "code",
        "colab": {}
      },
      "source": [
        "import matplotlib.image as img\n",
        "image = img.imread('/content/drive/My Drive/digitRecognition-wild.jpg')\n",
        "\n",
        "import matplotlib.pyplot as plt\n"
      ],
      "execution_count": 0,
      "outputs": []
    },
    {
      "cell_type": "code",
      "metadata": {
        "id": "MBigp6b-BL84",
        "colab_type": "code",
        "outputId": "6fd6f112-46f3-4d81-e667-005a3c6e443d",
        "colab": {
          "base_uri": "https://localhost:8080/",
          "height": 286
        }
      },
      "source": [
        "plt.imshow(image, cmap='gist_gray')"
      ],
      "execution_count": 0,
      "outputs": [
        {
          "output_type": "execute_result",
          "data": {
            "text/plain": [
              "<matplotlib.image.AxesImage at 0x7f066a25e9b0>"
            ]
          },
          "metadata": {
            "tags": []
          },
          "execution_count": 292
        },
        {
          "output_type": "display_data",
          "data": {
            "image/png": "[encoded data removed]",
            "text/plain": [
              "<Figure size 432x288 with 1 Axes>"
            ]
          },
          "metadata": {
            "tags": []
          }
        }
      ]
    },
    {
      "cell_type": "markdown",
      "metadata": {
        "id": "LCXQzzcojcfk",
        "colab_type": "text"
      },
      "source": [
        "#### This is a '5' that I hand-drew on a piece of toilet role. Classy ;)\n",
        "#### This is how it looks in matplotlib.image:"
      ]
    },
    {
      "cell_type": "code",
      "metadata": {
        "id": "DIA6TC3nBL84",
        "colab_type": "code",
        "outputId": "c3535b70-d55b-4cb8-ac50-a24a06c8b6f9",
        "colab": {
          "base_uri": "https://localhost:8080/",
          "height": 918
        }
      },
      "source": [
        "print(image)\n",
        "\n",
        "print(\"\\n\")\n",
        "print(\"array shape:\")\n",
        "print(image.shape)"
      ],
      "execution_count": 0,
      "outputs": [
        {
          "output_type": "stream",
          "text": [
            "[[[178 175 170]\n",
            "  [178 175 170]\n",
            "  [178 175 170]\n",
            "  ...\n",
            "  [164 161 156]\n",
            "  [164 161 156]\n",
            "  [163 160 155]]\n",
            "\n",
            " [[178 175 170]\n",
            "  [178 175 170]\n",
            "  [178 175 170]\n",
            "  ...\n",
            "  [164 161 156]\n",
            "  [163 160 155]\n",
            "  [163 160 155]]\n",
            "\n",
            " [[178 175 170]\n",
            "  [178 175 170]\n",
            "  [178 175 170]\n",
            "  ...\n",
            "  [163 160 155]\n",
            "  [162 159 154]\n",
            "  [162 159 154]]\n",
            "\n",
            " ...\n",
            "\n",
            " [[161 161 159]\n",
            "  [161 161 159]\n",
            "  [161 161 159]\n",
            "  ...\n",
            "  [134 133 131]\n",
            "  [136 135 133]\n",
            "  [136 135 133]]\n",
            "\n",
            " [[161 161 159]\n",
            "  [161 161 159]\n",
            "  [161 161 159]\n",
            "  ...\n",
            "  [132 131 129]\n",
            "  [136 135 133]\n",
            "  [138 137 135]]\n",
            "\n",
            " [[161 161 159]\n",
            "  [161 161 159]\n",
            "  [161 161 159]\n",
            "  ...\n",
            "  [130 129 127]\n",
            "  [136 135 133]\n",
            "  [140 139 137]]]\n",
            "\n",
            "\n",
            "array shape:\n",
            "(3264, 2448, 3)\n"
          ],
          "name": "stdout"
        }
      ]
    },
    {
      "cell_type": "markdown",
      "metadata": {
        "id": "ZN4HDJB_j6Cd",
        "colab_type": "text"
      },
      "source": [
        "#### It is a 3264 by 2448 array with each element being an array of length 3, corresponding to each pixels RGB values"
      ]
    },
    {
      "cell_type": "code",
      "metadata": {
        "id": "uKcd9EzLj3xH",
        "colab_type": "code",
        "outputId": "7b310460-7df2-4c25-d1ae-8e4cee6be974",
        "colab": {
          "base_uri": "https://localhost:8080/",
          "height": 867
        }
      },
      "source": [
        "import math\n",
        "\n",
        "# crop image - keep the middle 2000px\n",
        "xStart = math.floor((3264 - 2000) / 2)\n",
        "xStop = 3264 - xStart\n",
        "yStart = math.floor((2448 - 2000) / 2)\n",
        "yStop = 2448 - yStart\n",
        "\n",
        "imageCropped = image[xStart:xStop, yStart:yStop]\n",
        "\n",
        "# confirm cropped image shape\n",
        "print(imageCropped.shape)\n",
        "\n",
        "image = imageCropped\n",
        "\n",
        "print(image)"
      ],
      "execution_count": 0,
      "outputs": [
        {
          "output_type": "stream",
          "text": [
            "(2000, 2000, 3)\n",
            "[[[192 191 186]\n",
            "  [190 189 184]\n",
            "  [188 187 182]\n",
            "  ...\n",
            "  [148 145 138]\n",
            "  [143 140 133]\n",
            "  [140 137 130]]\n",
            "\n",
            " [[190 189 184]\n",
            "  [188 187 182]\n",
            "  [187 186 181]\n",
            "  ...\n",
            "  [147 144 137]\n",
            "  [143 140 133]\n",
            "  [140 137 130]]\n",
            "\n",
            " [[189 188 183]\n",
            "  [187 186 181]\n",
            "  [185 184 179]\n",
            "  ...\n",
            "  [147 144 137]\n",
            "  [143 140 133]\n",
            "  [141 138 131]]\n",
            "\n",
            " ...\n",
            "\n",
            " [[171 170 166]\n",
            "  [171 170 166]\n",
            "  [171 170 166]\n",
            "  ...\n",
            "  [162 161 156]\n",
            "  [159 158 153]\n",
            "  [157 156 151]]\n",
            "\n",
            " [[171 170 166]\n",
            "  [171 170 166]\n",
            "  [171 170 166]\n",
            "  ...\n",
            "  [163 162 157]\n",
            "  [160 159 154]\n",
            "  [158 157 152]]\n",
            "\n",
            " [[171 170 166]\n",
            "  [171 170 166]\n",
            "  [171 170 166]\n",
            "  ...\n",
            "  [164 163 158]\n",
            "  [161 160 155]\n",
            "  [158 157 152]]]\n"
          ],
          "name": "stdout"
        }
      ]
    },
    {
      "cell_type": "code",
      "metadata": {
        "id": "g7ur6IMtmDwE",
        "colab_type": "code",
        "outputId": "6d181788-75fc-4a3e-c264-68f8c7922f52",
        "colab": {
          "base_uri": "https://localhost:8080/",
          "height": 1000
        }
      },
      "source": [
        "from skimage.transform import resize\n",
        "\n",
        "imageResized = resize(image, (28,28),\n",
        "                       anti_aliasing=True)\n",
        "\n",
        "image = imageResized\n",
        "\n",
        "plt.imshow(image)\n",
        "\n",
        "print(image)\n"
      ],
      "execution_count": 0,
      "outputs": [
        {
          "output_type": "stream",
          "text": [
            "[[[0.70588235 0.70196078 0.68235294]\n",
            "  [0.69019608 0.68627451 0.66666667]\n",
            "  [0.6627451  0.65882353 0.63529412]\n",
            "  ...\n",
            "  [0.62352941 0.61960784 0.59215686]\n",
            "  [0.56078431 0.55294118 0.5254902 ]\n",
            "  [0.5372549  0.52941176 0.50196078]]\n",
            "\n",
            " [[0.69803922 0.69411765 0.67058824]\n",
            "  [0.68235294 0.67843137 0.65882353]\n",
            "  [0.65854342 0.65098039 0.62745098]\n",
            "  ...\n",
            "  [0.60392157 0.6        0.57254902]\n",
            "  [0.54117647 0.53585434 0.50588235]\n",
            "  [0.53333333 0.52941176 0.49803922]]\n",
            "\n",
            " [[0.68627451 0.68627451 0.6627451 ]\n",
            "  [0.6745098  0.6745098  0.65098039]\n",
            "  [0.65098039 0.64705882 0.62352941]\n",
            "  ...\n",
            "  [0.58459384 0.58431373 0.55686275]\n",
            "  [0.5372549  0.53333333 0.50588235]\n",
            "  [0.54901961 0.54509804 0.51764706]]\n",
            "\n",
            " ...\n",
            "\n",
            " [[0.63921569 0.63529412 0.61568627]\n",
            "  [0.64313725 0.64313725 0.62352941]\n",
            "  [0.62352941 0.62745098 0.60784314]\n",
            "  ...\n",
            "  [0.51764706 0.51764706 0.49803922]\n",
            "  [0.52941176 0.52941176 0.51372549]\n",
            "  [0.52156863 0.52156863 0.50196078]]\n",
            "\n",
            " [[0.63137255 0.62745098 0.61176471]\n",
            "  [0.60784314 0.60392157 0.58431373]\n",
            "  [0.59607843 0.59215686 0.57254902]\n",
            "  ...\n",
            "  [0.54117647 0.54117647 0.52156863]\n",
            "  [0.54509804 0.54509804 0.5254902 ]\n",
            "  [0.54117647 0.54117647 0.52156863]]\n",
            "\n",
            " [[0.63529412 0.63137255 0.61568627]\n",
            "  [0.58233293 0.57677071 0.56078431]\n",
            "  [0.58823529 0.58431373 0.56470588]\n",
            "  ...\n",
            "  [0.57254902 0.57254902 0.55294118]\n",
            "  [0.58823529 0.58823529 0.56862745]\n",
            "  [0.6        0.6        0.58039216]]]\n"
          ],
          "name": "stdout"
        },
        {
          "output_type": "display_data",
          "data": {
            "image/png": "[encoded data removed]",
            "text/plain": [
              "<Figure size 432x288 with 1 Axes>"
            ]
          },
          "metadata": {
            "tags": []
          }
        }
      ]
    },
    {
      "cell_type": "code",
      "metadata": {
        "id": "ic299OoEpI2P",
        "colab_type": "code",
        "outputId": "83f5d807-65d8-4abb-f2f2-5bdcd2f4f554",
        "colab": {
          "base_uri": "https://localhost:8080/",
          "height": 91
        }
      },
      "source": [
        "flatten = []\n",
        "for i in range(0,28):\n",
        "    for j in range(0,28):\n",
        "        flatten.append((sum(image[i][j])/ 3))\n",
        "        \n",
        "print(flatten)\n",
        "print(len(flatten))"
      ],
      "execution_count": 0,
      "outputs": [
        {
          "output_type": "stream",
          "text": [
            "[0.6967320261437907, 0.6810457516339868, 0.6522875816993464, 0.6084967320261434, 0.5973856209150327, 0.5738562091503268, 0.5957983193277314, 0.6784313725490195, 0.6941176470588234, 0.6600373482726419, 0.6615779645191411, 0.7320261437908497, 0.7503267973856209, 0.7594771241830065, 0.7398692810457517, 0.7163398692810459, 0.6901027077497662, 0.6567226890756298, 0.6222222222222222, 0.5673202614379084, 0.5673202614379084, 0.5581699346405228, 0.596078431372549, 0.65359477124183, 0.641176470588235, 0.611764705882353, 0.5464052287581699, 0.5228758169934641, 0.6875816993464051, 0.6732026143790849, 0.6456582633053217, 0.603921568627451, 0.5882352941176471, 0.5916900093370682, 0.6100773642790455, 0.6937508336668002, 0.6932773109243694, 0.6469654528478054, 0.6947712418300659, 0.7633986928104575, 0.7660130718954248, 0.7699346405228757, 0.742483660130719, 0.7045751633986929, 0.6500466853408026, 0.6235294117647059, 0.6084633853541409, 0.5414765906362544, 0.5477124183006535, 0.5633986928104574, 0.6, 0.6484927304255041, 0.6398692810457514, 0.592156862745098, 0.5276377217553684, 0.5202614379084968, 0.6784313725490195, 0.6666666666666666, 0.6405228758169935, 0.603921568627451, 0.5751633986928105, 0.610204081632654, 0.643023876217154, 0.7137254901960784, 0.676717353608109, 0.602607709750567, 0.6829131652661068, 0.7552821128451378, 0.6979124983326662, 0.7370681605975723, 0.7054888622115508, 0.6028344671201805, 0.5083900226757369, 0.5122315592903831, 0.5539682539682537, 0.46013071895424834, 0.5159663865546222, 0.5804855275443511, 0.596078431372549, 0.6366880085367485, 0.6418300653594772, 0.5752567693744159, 0.5254901960784314, 0.5372549019607843, 0.6732026143790849, 0.6692810457516339, 0.6444444444444445, 0.6032679738562088, 0.5843137254901961, 0.6383753501400564, 0.6790849673202616, 0.717366946778711, 0.5793650793650784, 0.38613445378151173, 0.4555555555555563, 0.5477124183006534, 0.4409430438842201, 0.46732026143790834, 0.4429971988795514, 0.3799719887955179, 0.32679738562091504, 0.3483660130718957, 0.4366013071895425, 0.37035480859010256, 0.4736694677871163, 0.5865546218487399, 0.5947712418300654, 0.6262371615312796, 0.6339869281045751, 0.5700280112044813, 0.5333333333333333, 0.550840336134454, 0.6694677871148458, 0.6692810457516339, 0.6562091503267974, 0.611671335200747, 0.596078431372549, 0.657516339869281, 0.6940976390556223, 0.6599973322662392, 0.4301320528211284, 0.39597839135654317, 0.577450980392158, 0.6912231559290385, 0.6123582766439908, 0.5425770308123248, 0.5356876083766843, 0.5036748032546347, 0.39859943977591045, 0.4711484593837539, 0.599639855942378, 0.564112311591303, 0.5424836601307189, 0.5660130718954247, 0.5869281045751634, 0.6184873949579841, 0.6189542483660128, 0.5737695078031214, 0.5555555555555555, 0.5673202614379084, 0.6479991996798721, 0.665359477124183, 0.665359477124183, 0.6241830065359473, 0.6004335067360279, 0.665359477124183, 0.7062491663332002, 0.6004668534080287, 0.4233626784046958, 0.610177404295052, 0.6816993464052291, 0.7124183006535948, 0.703267973856209, 0.630445511537948, 0.603921568627451, 0.5144924636521265, 0.44967320261437904, 0.5632119514472463, 0.6732026143790849, 0.6550353474723218, 0.589642523676137, 0.5581699346405228, 0.5777777777777778, 0.6300653594771242, 0.6128384687208212, 0.5816993464052288, 0.5895424836601307, 0.5712418300653594, 0.6214152327597708, 0.6522875816993464, 0.6679738562091503, 0.6449579831932771, 0.6052287581699347, 0.6846071762038152, 0.7477124183006536, 0.6043884220354797, 0.4603241296518615, 0.6601307189542484, 0.626423902894491, 0.6472455648926241, 0.6967320261437907, 0.645751633986928, 0.5869281045751634, 0.48851540616246386, 0.5148459383753506, 0.6435107376283851, 0.7111111111111111, 0.6849673202614378, 0.6110177404295042, 0.5578898225957045, 0.5815993063892225, 0.6457516339869281, 0.6079831932773109, 0.5855275443510742, 0.6065359477124184, 0.5741363211951442, 0.5843137254901961, 0.6235294117647059, 0.6654528478057894, 0.6555555555555551, 0.6169934640522876, 0.7241696678671475, 0.7950513538748832, 0.6292250233426693, 0.47226890756302603, 0.6156662665066025, 0.5628384687208214, 0.5934440442843805, 0.6732026143790849, 0.6421101774042947, 0.5774976657329595, 0.5058823529411764, 0.5824263038548761, 0.6955648926237162, 0.7307189542483661, 0.6980392156862744, 0.6089302387621713, 0.5503267973856208, 0.5965519541149803, 0.65359477124183, 0.6011671335200741, 0.5738562091503269, 0.6236294517807123, 0.5896025076697345, 0.5431305855675604, 0.585921035080699, 0.6536281179138324, 0.6401027077497663, 0.6469921301854078, 0.7724756569294396, 0.8339869281045752, 0.626610644257702, 0.46851407229558556, 0.5080899026277174, 0.5048085901027078, 0.5485794317727092, 0.6466853408029886, 0.6329598506069091, 0.5751633986928105, 0.5485527544351075, 0.6598506069094313, 0.7337535014005606, 0.7320261437908497, 0.7041083099906625, 0.5848739495798309, 0.5465052687741765, 0.6112978524743237, 0.65359477124183, 0.5891223155929036, 0.5842203548085906, 0.6395158063225294, 0.5896425236761369, 0.5126784046952118, 0.5568627450980391, 0.6352007469654527, 0.6261437908496732, 0.695511537948513, 0.8061624649859952, 0.8197945845004663, 0.5474523142590348, 0.4269241029745234, 0.4588235294117647, 0.4948179271708697, 0.5148526077097509, 0.6208550086701347, 0.6225023342670398, 0.5908496732026144, 0.6166199813258643, 0.7413698812858481, 0.7497198879551817, 0.7071895424836602, 0.6901960784313724, 0.5607843137254901, 0.5427637721755373, 0.6339869281045751, 0.6379084967320262, 0.5816993464052288, 0.6195211417900497, 0.6470588235294118, 0.5662931839402422, 0.47581699346405193, 0.5250233426704018, 0.6124649859943978, 0.6267973856209154, 0.7280578898225959, 0.8078431372549019, 0.7532212885154058, 0.4449112978524732, 0.4176003734827271, 0.4862745098039216, 0.5281045751633987, 0.4980392156862745, 0.5800186741363219, 0.6300653594771242, 0.6320261437908498, 0.7136788048552765, 0.7875816993464054, 0.729084967320261, 0.6745098039215686, 0.6600840336134447, 0.5323062558356672, 0.5581699346405228, 0.6507469654528482, 0.6183006535947713, 0.5908496732026144, 0.647012138188609, 0.6496732026143791, 0.5471055088702134, 0.4392156862745098, 0.4975723622782449, 0.6261437908496732, 0.6091970121381886, 0.7253968253968258, 0.7961384553821528, 0.6986194477791109, 0.43445378151260394, 0.4456582633053234, 0.5661931439242373, 0.5790382819794585, 0.4811457916499928, 0.5435107376283853, 0.6636988128584771, 0.7058089902627719, 0.776470588235294, 0.778991596638655, 0.690849673202614, 0.6497599039615846, 0.6322128851540613, 0.5061624649859939, 0.5856209150326798, 0.6601307189542484, 0.5972989195678267, 0.5837068160597575, 0.6679738562091503, 0.6583566760037344, 0.5261237828464708, 0.417093504068293, 0.49187675070028086, 0.6403361344537808, 0.5908496732026144, 0.7096171802054164, 0.7932973189275708, 0.6596638655462174, 0.42100173402694363, 0.40054021608643486, 0.5495198079231698, 0.48118580765639507, 0.3716486594637853, 0.49719887955182135, 0.710550887021476, 0.7741363211951451, 0.7981525943710815, 0.7450980392156863, 0.6692810457516334, 0.6125116713352012, 0.6225957049486455, 0.48888888888888893, 0.6084033613445387, 0.6627450980392157, 0.5735760971055076, 0.5686274509803927, 0.6928104575163397, 0.6609710550887017, 0.4927237561691336, 0.4114845938375346, 0.4997198879551829, 0.6339869281045751, 0.6026143790849673, 0.6926437241563299, 0.7891756702681069, 0.6619981325863671, 0.5482392957182872, 0.5713418700813664, 0.5862745098039214, 0.38832866479925254, 0.2624649859943978, 0.3586367880485531, 0.575163398692811, 0.7154328398025878, 0.7577897825796981, 0.6813258636788048, 0.6394957983193271, 0.5597372282246232, 0.6086834733893555, 0.47189542483660135, 0.6105175403494737, 0.665359477124183, 0.5710550887021466, 0.5764705882352947, 0.7110177404295056, 0.6561157796451903, 0.47921168467386854, 0.4169934640522876, 0.5076630652260911, 0.6274509803921569, 0.6196078431372549, 0.6796451914098977, 0.7758236627984524, 0.6711484593837528, 0.6300653594771242, 0.6771241830065359, 0.6515806322529003, 0.5192343604108304, 0.45903027877817837, 0.5689942643724164, 0.6580765639589171, 0.6121048419367746, 0.5314859277044146, 0.4908496732026149, 0.5667600373482725, 0.5398692810457516, 0.5639589169000928, 0.48736161131119154, 0.6094304388422039, 0.657883153261304, 0.5711684673869545, 0.5993464052287585, 0.7163398692810459, 0.6288515406162457, 0.4695611577964514, 0.4431372549019608, 0.5391023075897029, 0.614905962384954, 0.6209150326797386, 0.6795518207282921, 0.7398692810457517, 0.6784313725490195, 0.6558423369347741, 0.653054555155395, 0.6365679605175402, 0.5764705882352942, 0.5685941043083902, 0.6761171135120718, 0.7777777777777777, 0.7906495931706014, 0.6346938775510199, 0.482166199813259, 0.42091503267973857, 0.41923436041083045, 0.47490329465119396, 0.537815126050421, 0.6239895958383359, 0.6379084967320262, 0.593397358943577, 0.6385620915032683, 0.6946445244764566, 0.5969187675070023, 0.4911364545818328, 0.48536081099106365, 0.5891356542617051, 0.6013071895424836, 0.6431839402427646, 0.6692810457516339, 0.7019607843137255, 0.695424836601307, 0.6732959850606911, 0.6462184873949576, 0.6405228758169935, 0.592156862745098, 0.6077497665732965, 0.6937441643324003, 0.7647058823529411, 0.7777777777777777, 0.7212551687341593, 0.6849673202614378, 0.5923436041083097, 0.3231559290382806, 0.37734427104175067, 0.6026877417633721, 0.6601307189542484, 0.6261437908496732, 0.607929838602108, 0.6640522875816993, 0.668153928237961, 0.5916900093370677, 0.534640522875817, 0.5184407096171805, 0.6141456582633055, 0.6026143790849673, 0.6679738562091503, 0.6523342670401492, 0.6692810457516339, 0.6818394024276375, 0.6758169934640522, 0.6459850606909429, 0.6431372549019608, 0.6124183006535948, 0.615686274509804, 0.695424836601307, 0.7450980392156863, 0.7673202614379084, 0.72642390289449, 0.7006535947712417, 0.621241830065359, 0.41914098972922414, 0.30742296918767525, 0.5709150326797403, 0.6797385620915032, 0.6218487394957971, 0.5948646125116718, 0.6594771241830067, 0.6549019607843137, 0.5790849673202615, 0.5660130718954247, 0.5309990662931844, 0.6235294117647059, 0.6157796451914104, 0.6849673202614378, 0.648459383753501, 0.6405228758169935, 0.6732026143790849, 0.6784313725490195, 0.6339869281045751, 0.6521942110177406, 0.6267973856209146, 0.6143790849673203, 0.6915032679738561, 0.7411764705882353, 0.7647058823529411, 0.7215686274509804, 0.6837468320661596, 0.6098039215686272, 0.5411698012538347, 0.4751300520208084, 0.5040149393090579, 0.634340402827798, 0.6013071895424836, 0.5844070961718024, 0.6529411764705886, 0.6380885687608372, 0.5812324929971986, 0.5986928104575163, 0.5217486994797921, 0.6269841269841273, 0.6366946778711489, 0.699346405228758, 0.661437908496732, 0.6209150326797386, 0.659483793517407, 0.6601307189542484, 0.6183006535947713, 0.6549019607843136, 0.6209150326797386, 0.611731359210351, 0.6797385620915032, 0.7448179271708687, 0.7503267973856209, 0.7163398692810458, 0.6836601307189542, 0.6276844070961717, 0.6370681605975723, 0.6333866880085363, 0.47404295051353723, 0.5484527144191019, 0.6030812324929967, 0.5777777777777778, 0.6402894491129786, 0.6169934640522876, 0.5908496732026144, 0.5986928104575163, 0.5111111111111111, 0.6413632119514476, 0.6509803921568628, 0.7045751633986926, 0.6729425103374685, 0.6104575163398693, 0.6392156862745099, 0.6376283846872078, 0.6099906629318399, 0.6457516339869281, 0.6254901960784309, 0.611764705882353, 0.6724623182606381, 0.747432306255836, 0.7304988662131514, 0.7111111111111112, 0.6822595704948643, 0.657516339869281, 0.6785047352274239, 0.6474189675870344, 0.48552754435107276, 0.5276377217553699, 0.6196078431372549, 0.5751633986928105, 0.611764705882353, 0.6003734827264231, 0.596078431372549, 0.592156862745098, 0.5181472589035618, 0.6622782446311861, 0.6496732026143791, 0.7003734827264241, 0.6692810457516339, 0.615686274509804, 0.6204148325997068, 0.6321795384820591, 0.611764705882353, 0.6418300653594772, 0.6354341736694676, 0.6143790849673203, 0.6592903828197948, 0.738562091503268, 0.706909430438842, 0.7006535947712417, 0.6823529411764705, 0.6941176470588234, 0.6941176470588234, 0.6352941176470588, 0.5244631185807651, 0.5433239962651739, 0.6270908363345334, 0.5738562091503268, 0.596078431372549, 0.6026143790849674, 0.607843137254902, 0.5882352941176471, 0.5811457916499944, 0.6588235294117647, 0.6452847805788985, 0.64407096171802, 0.6261437908496732, 0.611764705882353, 0.6057889822595711, 0.6235294117647059, 0.6227624383086572, 0.6348272642390292, 0.6379084967320261, 0.620481525943711, 0.6352941176470588, 0.6497732426303853, 0.6076630652260903, 0.6186007736427904, 0.6509803921568628, 0.6627450980392157, 0.6392156862745098, 0.5533480058690133, 0.43155929038281826, 0.5145658263305333, 0.5647058823529412, 0.5372549019607843, 0.5490662931839401, 0.5625583566760034, 0.5704014939309053, 0.5516339869281045, 0.6617180205415503, 0.6802054154995328, 0.6652661064425766, 0.6457516339869275, 0.6470588235294118, 0.661437908496732, 0.6473389355742293, 0.6418300653594771, 0.6418300653594772, 0.6444444444444445, 0.6549019607843137, 0.652380952380952, 0.6321528611444575, 0.5907763105242095, 0.5620915032679737, 0.6047619047619053, 0.6798252634387092, 0.6823529411764705, 0.6498599439775902, 0.44991996798719397, 0.4074696545284793, 0.6147525676937446, 0.5908830198746166, 0.5700280112044819, 0.5712418300653594, 0.5647058823529412, 0.5554621848739494, 0.5515606242496998, 0.6562091503267973, 0.6692810457516339, 0.6522875816993464, 0.6379084967320261, 0.6345938375350141, 0.6483660130718955, 0.6354341736694676, 0.6063958916900093, 0.5895424836601307, 0.6261437908496732, 0.6758169934640522, 0.6758169934640522, 0.6219887955182072, 0.5333333333333333, 0.5065359477124183, 0.5494397759103644, 0.5934640522875817, 0.592156862745098, 0.5250233426704005, 0.4455648926237165, 0.5618113912231565, 0.6296918767507006, 0.5995798319327729, 0.5738562091503268, 0.5499999999999995, 0.5320261437908497, 0.5359477124183006, 0.5424836601307189, 0.6300653594771242, 0.6366013071895424, 0.6196078431372549, 0.6431372549019608, 0.6352941176470588, 0.6288181939442442, 0.6068360677604371, 0.5135587568360672, 0.5008069894624514, 0.576483926904095, 0.657516339869281, 0.6550887021475255, 0.586027744431105, 0.43566760037348223, 0.3924169667867141, 0.36760037348272595, 0.36088435374149647, 0.43454715219421153, 0.48860877684407183, 0.6029545151393897, 0.5869281045751634, 0.5727357609710547, 0.550360144057623, 0.526797385620915, 0.5111111111111111, 0.5111111111111111, 0.5241830065359477, 0.5150326797385621, 0.6235294117647059, 0.5986928104575163, 0.5869281045751634, 0.6363678804855276, 0.6326797385620915, 0.6169934640522876, 0.5780578898225953, 0.3664799253034536, 0.32438975590236147, 0.3673202614379085, 0.4086834733893557, 0.4112378284647195, 0.43790849673202614, 0.2930905695611574, 0.25098039215686274, 0.3114112311591317, 0.5153127917833811, 0.6436041083099907, 0.6419234360410826, 0.6129051620648258, 0.5686274509803921, 0.5450980392156862, 0.534640522875817, 0.5311858076563959, 0.5351073762838469, 0.534640522875817, 0.538562091503268, 0.534640522875817, 0.6274509803921569, 0.5732959850606903, 0.5790849673202615, 0.6091503267973857, 0.6169934640522876, 0.6287581699346405, 0.6156862745098038, 0.477370948379352, 0.49403094571161904, 0.5746231826063763, 0.597105508870215, 0.5915966386554626, 0.64780578898226, 0.5344204348406026, 0.4336467920501536, 0.5023342670401505, 0.617086834733894, 0.6465452847805785, 0.6261437908496732, 0.6008403361344534, 0.5895424836601307, 0.5816993464052288, 0.5840336134453784, 0.5986928104575163, 0.5795985060690941, 0.5660130718954248, 0.5816993464052288, 0.5934640522875817]\n",
            "784\n"
          ],
          "name": "stdout"
        }
      ]
    },
    {
      "cell_type": "code",
      "metadata": {
        "id": "SW1cI2S7paUc",
        "colab_type": "code",
        "colab": {}
      },
      "source": [
        "correctInput = np.asarray(flatten, dtype=np.float32)\n",
        "correctInput = correctInput.reshape(784,)"
      ],
      "execution_count": 0,
      "outputs": []
    },
    {
      "cell_type": "code",
      "metadata": {
        "id": "SNHyLp9cr9GS",
        "colab_type": "code",
        "outputId": "bf32ee0f-25d9-4617-976a-8f51e0cb8da5",
        "colab": {
          "base_uri": "https://localhost:8080/",
          "height": 384
        }
      },
      "source": [
        "image = correctInput\n",
        "print(image.shape)\n",
        "# (784,)\n",
        "image = np.array([image],)\n",
        "print(image.shape)\n",
        "# (1, 784)\n",
        "image = image.reshape(1,784)\n",
        "label = np.array([0.0, 0.0, 0.0, 0.0, 0.0, 1.0, 0.0, 0.0, 0.0, 0.0,],)\n",
        "print(label.shape)\n",
        "label = label.reshape(1,10)\n",
        "\n",
        "with tf.Session() as sess:\n",
        "  \n",
        "  digitRecognitionModel = 'digitRecognitionModel.pt'\n",
        "  path = F\"/content/drive/My Drive/{digitRecognitionModel}\"\n",
        "  saver.restore(sess, path)\n",
        "\n",
        "  plt.imshow(image.reshape(28,28))\n",
        "  result = sess.run(y_pred,feed_dict={x: image,hold_prob:1.0})\n",
        "  print(result)\n",
        "  print(sess.run(tf.argmax(result,1)))"
      ],
      "execution_count": 0,
      "outputs": [
        {
          "output_type": "stream",
          "text": [
            "(784,)\n",
            "(1, 784)\n",
            "(10,)\n",
            "INFO:tensorflow:Restoring parameters from /content/drive/My Drive/digitRecognitionModel.pt\n",
            "[[-0.7709128 -1.4190662  1.4103343 -1.3183383 -1.7122203  2.0546787\n",
            "   2.33877   -1.6699709  2.2801945 -0.6369967]]\n",
            "[6]\n"
          ],
          "name": "stdout"
        },
        {
          "output_type": "display_data",
          "data": {
            "image/png": "[encoded data removed]",
            "text/plain": [
              "<Figure size 432x288 with 1 Axes>"
            ]
          },
          "metadata": {
            "tags": []
          }
        }
      ]
    },
    {
      "cell_type": "markdown",
      "metadata": {
        "id": "8K8PkW9eJ-cg",
        "colab_type": "text"
      },
      "source": [
        "### Looking at this image, compared to the 4 at the top of the page, it isn't hard to see why the algorithm struggled to classify it correcty! "
      ]
    },
    {
      "cell_type": "code",
      "metadata": {
        "id": "VmVHbFLWJzgu",
        "colab_type": "code",
        "outputId": "9b7e116e-89a8-4a2d-e744-03350342791a",
        "colab": {
          "base_uri": "https://localhost:8080/",
          "height": 286
        }
      },
      "source": [
        "image = img.imread('/content/drive/My Drive/digitRecognition-wild-2.JPG')\n",
        "\n",
        "# This bastard was the wrong way round (rot-90?)\n",
        "image = np.rot90(image)\n",
        "image = np.rot90(image)\n",
        "image = np.rot90(image)\n",
        "\n",
        "plt.imshow(image)\n",
        "\n"
      ],
      "execution_count": 0,
      "outputs": [
        {
          "output_type": "execute_result",
          "data": {
            "text/plain": [
              "<matplotlib.image.AxesImage at 0x7f066a171a58>"
            ]
          },
          "metadata": {
            "tags": []
          },
          "execution_count": 299
        },
        {
          "output_type": "display_data",
          "data": {
            "image/png": "[encoded data removed]",
            "text/plain": [
              "<Figure size 432x288 with 1 Axes>"
            ]
          },
          "metadata": {
            "tags": []
          }
        }
      ]
    },
    {
      "cell_type": "code",
      "metadata": {
        "id": "tGHZgyFiKfEK",
        "colab_type": "code",
        "outputId": "d4d8b2ae-1df2-4c5b-fd79-ff5fcce698fd",
        "colab": {
          "base_uri": "https://localhost:8080/",
          "height": 282
        }
      },
      "source": [
        "# crop image - keep the middle 2000px\n",
        "xStart = math.floor((3264 - 2000) / 2)\n",
        "xStop = 3264 - xStart\n",
        "yStart = math.floor((2448 - 2000) / 2)\n",
        "yStop = 2448 - yStart\n",
        "\n",
        "imageCropped = image[xStart:xStop, yStart:yStop]\n",
        "\n",
        "image = imageCropped\n",
        "\n",
        "imageResized = resize(image, (28,28),\n",
        "                       anti_aliasing=True)\n",
        "\n",
        "image = imageResized\n",
        "\n",
        "plt.imshow(image)\n"
      ],
      "execution_count": 0,
      "outputs": [
        {
          "output_type": "execute_result",
          "data": {
            "text/plain": [
              "<matplotlib.image.AxesImage at 0x7f066a14e630>"
            ]
          },
          "metadata": {
            "tags": []
          },
          "execution_count": 300
        },
        {
          "output_type": "display_data",
          "data": {
            "image/png": "[encoded data removed]",
            "text/plain": [
              "<Figure size 432x288 with 1 Axes>"
            ]
          },
          "metadata": {
            "tags": []
          }
        }
      ]
    },
    {
      "cell_type": "code",
      "metadata": {
        "id": "bPKopp0POYqv",
        "colab_type": "code",
        "outputId": "6674f0d9-ac7a-4c4c-e255-8affa294bd02",
        "colab": {
          "base_uri": "https://localhost:8080/",
          "height": 384
        }
      },
      "source": [
        "flatten = []\n",
        "for i in range(0,28):\n",
        "    for j in range(0,28):\n",
        "        flatten.append((sum(image[i][j])/ 3))\n",
        "\n",
        "correctInput = np.asarray(flatten, dtype=np.float32)\n",
        "correctInput = correctInput.reshape(784,)\n",
        "\n",
        "image = correctInput\n",
        "print(image.shape)\n",
        "# (784,)\n",
        "image = np.array([image],)\n",
        "print(image.shape)\n",
        "# (1, 784)\n",
        "image = image.reshape(1,784)\n",
        "label = np.array([0.0, 0.0, 0.0, 0.0, 0.0, 1.0, 0.0, 0.0, 0.0, 0.0,],)\n",
        "print(label.shape)\n",
        "label = label.reshape(1,10)\n",
        "\n",
        "with tf.Session() as sess:\n",
        "  \n",
        "  digitRecognitionModel = 'digitRecognitionModel.pt'\n",
        "  path = F\"/content/drive/My Drive/{digitRecognitionModel}\"\n",
        "  saver.restore(sess, path)\n",
        "\n",
        "  plt.imshow(image.reshape(28,28))\n",
        "  result = sess.run(y_pred,feed_dict={x: image,hold_prob:1.0})\n",
        "  print(result)\n",
        "  print(sess.run(tf.argmax(result,1)))\n",
        "\n",
        "\n",
        "  # How sure am I?\n",
        "  # WHW I would take the result array, positive all the values and sigmoid the ting\n"
      ],
      "execution_count": 0,
      "outputs": [
        {
          "output_type": "stream",
          "text": [
            "(784,)\n",
            "(1, 784)\n",
            "(10,)\n",
            "INFO:tensorflow:Restoring parameters from /content/drive/My Drive/digitRecognitionModel.pt\n",
            "[[-0.7075896  -1.5708842   1.4632807  -2.060326   -2.7657206   2.8417618\n",
            "   2.5307634  -1.5903347   1.6659929   0.00584985]]\n",
            "[5]\n"
          ],
          "name": "stdout"
        },
        {
          "output_type": "display_data",
          "data": {
            "image/png": "[encoded data removed]",
            "text/plain": [
              "<Figure size 432x288 with 1 Axes>"
            ]
          },
          "metadata": {
            "tags": []
          }
        }
      ]
    },
    {
      "cell_type": "markdown",
      "metadata": {
        "id": "w1bxvLmTTF2v",
        "colab_type": "text"
      },
      "source": [
        "## Yes! This '5', which is clearer than the last, is classified correctly! Training on the MNIST dataset has had carry over into the wild....\n",
        "\n",
        "#### done."
      ]
    },
    {
      "cell_type": "code",
      "metadata": {
        "id": "59MUvscPTcTq",
        "colab_type": "code",
        "colab": {}
      },
      "source": [
        ""
      ],
      "execution_count": 0,
      "outputs": []
    }
  ]
}